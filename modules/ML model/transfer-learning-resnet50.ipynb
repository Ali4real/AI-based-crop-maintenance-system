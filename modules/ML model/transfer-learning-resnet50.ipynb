{
 "cells": [
  {
   "cell_type": "code",
   "execution_count": 1,
   "id": "0fe80cd1",
   "metadata": {
    "_cell_guid": "b1076dfc-b9ad-4769-8c92-a6c4dae69d19",
    "_uuid": "8f2839f25d086af736a60e9eeb907d3b93b6e0e5",
    "execution": {
     "iopub.execute_input": "2023-01-07T13:58:19.504580Z",
     "iopub.status.busy": "2023-01-07T13:58:19.504134Z",
     "iopub.status.idle": "2023-01-07T13:58:24.753960Z",
     "shell.execute_reply": "2023-01-07T13:58:24.752977Z"
    },
    "papermill": {
     "duration": 5.259355,
     "end_time": "2023-01-07T13:58:24.757133",
     "exception": false,
     "start_time": "2023-01-07T13:58:19.497778",
     "status": "completed"
    },
    "tags": []
   },
   "outputs": [],
   "source": [
    "# First we will import neccessary libraries\n",
    "import pandas as pd\n",
    "import numpy as np\n",
    "import tensorflow as tf\n",
    "import os\n",
    "import cv2 as cv\n",
    "from tensorflow import keras\n",
    "from sklearn.model_selection import train_test_split\n",
    "from sklearn import preprocessing\n",
    "import matplotlib.pyplot as plt"
   ]
  },
  {
   "cell_type": "markdown",
   "id": "1f44f3b2",
   "metadata": {
    "papermill": {
     "duration": 0.004068,
     "end_time": "2023-01-07T13:58:24.765444",
     "exception": false,
     "start_time": "2023-01-07T13:58:24.761376",
     "status": "completed"
    },
    "tags": []
   },
   "source": [
    "## to get a dictionary of key as labels and values as paths"
   ]
  },
  {
   "cell_type": "code",
   "execution_count": 2,
   "id": "50b8201c",
   "metadata": {
    "execution": {
     "iopub.execute_input": "2023-01-07T13:58:24.774392Z",
     "iopub.status.busy": "2023-01-07T13:58:24.773878Z",
     "iopub.status.idle": "2023-01-07T13:58:25.098803Z",
     "shell.execute_reply": "2023-01-07T13:58:25.097842Z"
    },
    "papermill": {
     "duration": 0.331888,
     "end_time": "2023-01-07T13:58:25.101160",
     "exception": false,
     "start_time": "2023-01-07T13:58:24.769272",
     "status": "completed"
    },
    "tags": []
   },
   "outputs": [],
   "source": [
    "path = \"/kaggle/input/agricultural-crops-image-classification/Agricultural-crops\"\n",
    "key_value= dict()\n",
    "for i in os.listdir(path):\n",
    "    key_value[i] = os.listdir(path+'/'+i)"
   ]
  },
  {
   "cell_type": "markdown",
   "id": "14bbfb10",
   "metadata": {
    "papermill": {
     "duration": 0.003481,
     "end_time": "2023-01-07T13:58:25.108567",
     "exception": false,
     "start_time": "2023-01-07T13:58:25.105086",
     "status": "completed"
    },
    "tags": []
   },
   "source": [
    "## then we will convert this dictionary into a DataFrame"
   ]
  },
  {
   "cell_type": "code",
   "execution_count": 3,
   "id": "7c5abe8d",
   "metadata": {
    "execution": {
     "iopub.execute_input": "2023-01-07T13:58:25.117796Z",
     "iopub.status.busy": "2023-01-07T13:58:25.116924Z",
     "iopub.status.idle": "2023-01-07T13:58:25.141644Z",
     "shell.execute_reply": "2023-01-07T13:58:25.140488Z"
    },
    "papermill": {
     "duration": 0.032456,
     "end_time": "2023-01-07T13:58:25.144710",
     "exception": false,
     "start_time": "2023-01-07T13:58:25.112254",
     "status": "completed"
    },
    "tags": []
   },
   "outputs": [
    {
     "data": {
      "text/html": [
       "<div>\n",
       "<style scoped>\n",
       "    .dataframe tbody tr th:only-of-type {\n",
       "        vertical-align: middle;\n",
       "    }\n",
       "\n",
       "    .dataframe tbody tr th {\n",
       "        vertical-align: top;\n",
       "    }\n",
       "\n",
       "    .dataframe thead th {\n",
       "        text-align: right;\n",
       "    }\n",
       "</style>\n",
       "<table border=\"1\" class=\"dataframe\">\n",
       "  <thead>\n",
       "    <tr style=\"text-align: right;\">\n",
       "      <th></th>\n",
       "      <th>label</th>\n",
       "      <th>path</th>\n",
       "    </tr>\n",
       "  </thead>\n",
       "  <tbody>\n",
       "    <tr>\n",
       "      <th>0</th>\n",
       "      <td>tomato</td>\n",
       "      <td>/kaggle/input/agricultural-crops-image-classif...</td>\n",
       "    </tr>\n",
       "    <tr>\n",
       "      <th>1</th>\n",
       "      <td>tomato</td>\n",
       "      <td>/kaggle/input/agricultural-crops-image-classif...</td>\n",
       "    </tr>\n",
       "    <tr>\n",
       "      <th>2</th>\n",
       "      <td>tomato</td>\n",
       "      <td>/kaggle/input/agricultural-crops-image-classif...</td>\n",
       "    </tr>\n",
       "    <tr>\n",
       "      <th>3</th>\n",
       "      <td>tomato</td>\n",
       "      <td>/kaggle/input/agricultural-crops-image-classif...</td>\n",
       "    </tr>\n",
       "    <tr>\n",
       "      <th>4</th>\n",
       "      <td>tomato</td>\n",
       "      <td>/kaggle/input/agricultural-crops-image-classif...</td>\n",
       "    </tr>\n",
       "    <tr>\n",
       "      <th>...</th>\n",
       "      <td>...</td>\n",
       "      <td>...</td>\n",
       "    </tr>\n",
       "    <tr>\n",
       "      <th>824</th>\n",
       "      <td>Coffee-plant</td>\n",
       "      <td>/kaggle/input/agricultural-crops-image-classif...</td>\n",
       "    </tr>\n",
       "    <tr>\n",
       "      <th>825</th>\n",
       "      <td>Coffee-plant</td>\n",
       "      <td>/kaggle/input/agricultural-crops-image-classif...</td>\n",
       "    </tr>\n",
       "    <tr>\n",
       "      <th>826</th>\n",
       "      <td>Coffee-plant</td>\n",
       "      <td>/kaggle/input/agricultural-crops-image-classif...</td>\n",
       "    </tr>\n",
       "    <tr>\n",
       "      <th>827</th>\n",
       "      <td>Coffee-plant</td>\n",
       "      <td>/kaggle/input/agricultural-crops-image-classif...</td>\n",
       "    </tr>\n",
       "    <tr>\n",
       "      <th>828</th>\n",
       "      <td>Coffee-plant</td>\n",
       "      <td>/kaggle/input/agricultural-crops-image-classif...</td>\n",
       "    </tr>\n",
       "  </tbody>\n",
       "</table>\n",
       "<p>829 rows × 2 columns</p>\n",
       "</div>"
      ],
      "text/plain": [
       "            label                                               path\n",
       "0          tomato  /kaggle/input/agricultural-crops-image-classif...\n",
       "1          tomato  /kaggle/input/agricultural-crops-image-classif...\n",
       "2          tomato  /kaggle/input/agricultural-crops-image-classif...\n",
       "3          tomato  /kaggle/input/agricultural-crops-image-classif...\n",
       "4          tomato  /kaggle/input/agricultural-crops-image-classif...\n",
       "..            ...                                                ...\n",
       "824  Coffee-plant  /kaggle/input/agricultural-crops-image-classif...\n",
       "825  Coffee-plant  /kaggle/input/agricultural-crops-image-classif...\n",
       "826  Coffee-plant  /kaggle/input/agricultural-crops-image-classif...\n",
       "827  Coffee-plant  /kaggle/input/agricultural-crops-image-classif...\n",
       "828  Coffee-plant  /kaggle/input/agricultural-crops-image-classif...\n",
       "\n",
       "[829 rows x 2 columns]"
      ]
     },
     "execution_count": 3,
     "metadata": {},
     "output_type": "execute_result"
    }
   ],
   "source": [
    "df = []\n",
    "for key in key_value.keys():\n",
    "    for j in key_value[key]:\n",
    "        df.append([key,path+'/'+key+'/'+j])\n",
    "df1 = pd.DataFrame(df,columns=('label','path'))\n",
    "df1"
   ]
  },
  {
   "cell_type": "markdown",
   "id": "a7866c9e",
   "metadata": {
    "papermill": {
     "duration": 0.003691,
     "end_time": "2023-01-07T13:58:25.152316",
     "exception": false,
     "start_time": "2023-01-07T13:58:25.148625",
     "status": "completed"
    },
    "tags": []
   },
   "source": [
    "## create a function to read images"
   ]
  },
  {
   "cell_type": "code",
   "execution_count": 4,
   "id": "346da230",
   "metadata": {
    "execution": {
     "iopub.execute_input": "2023-01-07T13:58:25.162017Z",
     "iopub.status.busy": "2023-01-07T13:58:25.161157Z",
     "iopub.status.idle": "2023-01-07T13:58:25.166272Z",
     "shell.execute_reply": "2023-01-07T13:58:25.165406Z"
    },
    "papermill": {
     "duration": 0.011957,
     "end_time": "2023-01-07T13:58:25.168259",
     "exception": false,
     "start_time": "2023-01-07T13:58:25.156302",
     "status": "completed"
    },
    "tags": []
   },
   "outputs": [],
   "source": [
    "def readimg(path):\n",
    "    img= cv.imread(path)\n",
    "    img = cv.resize(img,(224,224))\n",
    "    return img"
   ]
  },
  {
   "cell_type": "markdown",
   "id": "f4aa20e1",
   "metadata": {
    "papermill": {
     "duration": 0.003659,
     "end_time": "2023-01-07T13:58:25.175745",
     "exception": false,
     "start_time": "2023-01-07T13:58:25.172086",
     "status": "completed"
    },
    "tags": []
   },
   "source": [
    "## to read images fastly we will use multiprocessing"
   ]
  },
  {
   "cell_type": "code",
   "execution_count": 5,
   "id": "10e4275e",
   "metadata": {
    "execution": {
     "iopub.execute_input": "2023-01-07T13:58:25.185275Z",
     "iopub.status.busy": "2023-01-07T13:58:25.184447Z",
     "iopub.status.idle": "2023-01-07T13:58:30.577090Z",
     "shell.execute_reply": "2023-01-07T13:58:30.575353Z"
    },
    "papermill": {
     "duration": 5.399988,
     "end_time": "2023-01-07T13:58:30.579731",
     "exception": false,
     "start_time": "2023-01-07T13:58:25.179743",
     "status": "completed"
    },
    "tags": []
   },
   "outputs": [],
   "source": [
    "import multiprocessing\n",
    "\n",
    "# Create a Pool with 4 worker processes\n",
    "with multiprocessing.Pool(4) as p:\n",
    "    # Read in all of the images in parallel\n",
    "    images = p.map(readimg, df1['path'])\n"
   ]
  },
  {
   "cell_type": "markdown",
   "id": "be681908",
   "metadata": {
    "papermill": {
     "duration": 0.004064,
     "end_time": "2023-01-07T13:58:30.589003",
     "exception": false,
     "start_time": "2023-01-07T13:58:30.584939",
     "status": "completed"
    },
    "tags": []
   },
   "source": [
    "## to encode the target labels into numerical data we will use labelencoder"
   ]
  },
  {
   "cell_type": "code",
   "execution_count": 6,
   "id": "eeb28a3c",
   "metadata": {
    "execution": {
     "iopub.execute_input": "2023-01-07T13:58:30.599484Z",
     "iopub.status.busy": "2023-01-07T13:58:30.598414Z",
     "iopub.status.idle": "2023-01-07T13:58:30.847249Z",
     "shell.execute_reply": "2023-01-07T13:58:30.846169Z"
    },
    "papermill": {
     "duration": 0.256716,
     "end_time": "2023-01-07T13:58:30.849931",
     "exception": false,
     "start_time": "2023-01-07T13:58:30.593215",
     "status": "completed"
    },
    "tags": []
   },
   "outputs": [],
   "source": [
    "images=np.array(images, dtype='float')\n",
    "# label encoder from sklearn\n",
    "le = preprocessing.LabelEncoder()\n",
    "y_labels = le.fit_transform(df1['label'])"
   ]
  },
  {
   "cell_type": "code",
   "execution_count": 7,
   "id": "d3b7ee04",
   "metadata": {
    "execution": {
     "iopub.execute_input": "2023-01-07T13:58:30.860496Z",
     "iopub.status.busy": "2023-01-07T13:58:30.859738Z",
     "iopub.status.idle": "2023-01-07T13:58:31.154393Z",
     "shell.execute_reply": "2023-01-07T13:58:31.153371Z"
    },
    "papermill": {
     "duration": 0.302943,
     "end_time": "2023-01-07T13:58:31.157032",
     "exception": false,
     "start_time": "2023-01-07T13:58:30.854089",
     "status": "completed"
    },
    "tags": []
   },
   "outputs": [],
   "source": [
    "# to split the data into training and testing data\n",
    "train_images,test_images,train_labels,test_labels = train_test_split(images,y_labels,test_size=0.25, random_state=42)"
   ]
  },
  {
   "cell_type": "markdown",
   "id": "c657ac1a",
   "metadata": {
    "papermill": {
     "duration": 0.00382,
     "end_time": "2023-01-07T13:58:31.165053",
     "exception": false,
     "start_time": "2023-01-07T13:58:31.161233",
     "status": "completed"
    },
    "tags": []
   },
   "source": [
    " ## defining model i.e ResNet50 as source model and two layers"
   ]
  },
  {
   "cell_type": "code",
   "execution_count": 8,
   "id": "e8677dee",
   "metadata": {
    "execution": {
     "iopub.execute_input": "2023-01-07T13:58:31.174006Z",
     "iopub.status.busy": "2023-01-07T13:58:31.173674Z",
     "iopub.status.idle": "2023-01-07T13:58:37.241997Z",
     "shell.execute_reply": "2023-01-07T13:58:37.240713Z"
    },
    "papermill": {
     "duration": 6.075532,
     "end_time": "2023-01-07T13:58:37.244388",
     "exception": false,
     "start_time": "2023-01-07T13:58:31.168856",
     "status": "completed"
    },
    "tags": []
   },
   "outputs": [
    {
     "name": "stderr",
     "output_type": "stream",
     "text": [
      "2023-01-07 13:58:32.367682: I tensorflow/stream_executor/cuda/cuda_gpu_executor.cc:937] successful NUMA node read from SysFS had negative value (-1), but there must be at least one NUMA node, so returning NUMA node zero\n",
      "2023-01-07 13:58:32.466611: I tensorflow/stream_executor/cuda/cuda_gpu_executor.cc:937] successful NUMA node read from SysFS had negative value (-1), but there must be at least one NUMA node, so returning NUMA node zero\n",
      "2023-01-07 13:58:32.467461: I tensorflow/stream_executor/cuda/cuda_gpu_executor.cc:937] successful NUMA node read from SysFS had negative value (-1), but there must be at least one NUMA node, so returning NUMA node zero\n",
      "2023-01-07 13:58:32.469585: I tensorflow/core/platform/cpu_feature_guard.cc:142] This TensorFlow binary is optimized with oneAPI Deep Neural Network Library (oneDNN) to use the following CPU instructions in performance-critical operations:  AVX2 AVX512F FMA\n",
      "To enable them in other operations, rebuild TensorFlow with the appropriate compiler flags.\n",
      "2023-01-07 13:58:32.469857: I tensorflow/stream_executor/cuda/cuda_gpu_executor.cc:937] successful NUMA node read from SysFS had negative value (-1), but there must be at least one NUMA node, so returning NUMA node zero\n",
      "2023-01-07 13:58:32.470577: I tensorflow/stream_executor/cuda/cuda_gpu_executor.cc:937] successful NUMA node read from SysFS had negative value (-1), but there must be at least one NUMA node, so returning NUMA node zero\n",
      "2023-01-07 13:58:32.471261: I tensorflow/stream_executor/cuda/cuda_gpu_executor.cc:937] successful NUMA node read from SysFS had negative value (-1), but there must be at least one NUMA node, so returning NUMA node zero\n",
      "2023-01-07 13:58:34.702255: I tensorflow/stream_executor/cuda/cuda_gpu_executor.cc:937] successful NUMA node read from SysFS had negative value (-1), but there must be at least one NUMA node, so returning NUMA node zero\n",
      "2023-01-07 13:58:34.703101: I tensorflow/stream_executor/cuda/cuda_gpu_executor.cc:937] successful NUMA node read from SysFS had negative value (-1), but there must be at least one NUMA node, so returning NUMA node zero\n",
      "2023-01-07 13:58:34.703774: I tensorflow/stream_executor/cuda/cuda_gpu_executor.cc:937] successful NUMA node read from SysFS had negative value (-1), but there must be at least one NUMA node, so returning NUMA node zero\n",
      "2023-01-07 13:58:34.704380: I tensorflow/core/common_runtime/gpu/gpu_device.cc:1510] Created device /job:localhost/replica:0/task:0/device:GPU:0 with 15401 MB memory:  -> device: 0, name: Tesla P100-PCIE-16GB, pci bus id: 0000:00:04.0, compute capability: 6.0\n"
     ]
    },
    {
     "name": "stdout",
     "output_type": "stream",
     "text": [
      "Downloading data from https://storage.googleapis.com/tensorflow/keras-applications/resnet/resnet50_weights_tf_dim_ordering_tf_kernels_notop.h5\n",
      "94773248/94765736 [==============================] - 0s 0us/step\n",
      "94781440/94765736 [==============================] - 0s 0us/step\n"
     ]
    }
   ],
   "source": [
    "## implementing trensfer learning\n",
    "base_model = keras.applications.ResNet50(weights='imagenet', include_top=False)\n",
    "\n",
    "# freezing the base model so we donot have to train it again\n",
    "base_model.trainable = False\n",
    "\n",
    "\n",
    "model = keras.Sequential([\n",
    "  base_model,\n",
    "  keras.layers.GlobalAveragePooling2D(),\n",
    "  keras.layers.Dense(1024, activation='relu'),\n",
    "  keras.layers.Dense(30, activation='softmax')\n",
    "])\n",
    "model.compile(optimizer='adam', loss='SparseCategoricalCrossentropy', metrics=['accuracy'])"
   ]
  },
  {
   "cell_type": "code",
   "execution_count": 9,
   "id": "f1826a83",
   "metadata": {
    "execution": {
     "iopub.execute_input": "2023-01-07T13:58:37.258089Z",
     "iopub.status.busy": "2023-01-07T13:58:37.256633Z",
     "iopub.status.idle": "2023-01-07T13:59:21.914964Z",
     "shell.execute_reply": "2023-01-07T13:59:21.913931Z"
    },
    "papermill": {
     "duration": 44.681204,
     "end_time": "2023-01-07T13:59:21.931546",
     "exception": false,
     "start_time": "2023-01-07T13:58:37.250342",
     "status": "completed"
    },
    "tags": []
   },
   "outputs": [
    {
     "name": "stderr",
     "output_type": "stream",
     "text": [
      "2023-01-07 13:58:38.209977: I tensorflow/compiler/mlir/mlir_graph_optimization_pass.cc:185] None of the MLIR Optimization Passes are enabled (registered 2)\n"
     ]
    },
    {
     "name": "stdout",
     "output_type": "stream",
     "text": [
      "Epoch 1/10\n"
     ]
    },
    {
     "name": "stderr",
     "output_type": "stream",
     "text": [
      "2023-01-07 13:58:41.785174: I tensorflow/stream_executor/cuda/cuda_dnn.cc:369] Loaded cuDNN version 8005\n"
     ]
    },
    {
     "name": "stdout",
     "output_type": "stream",
     "text": [
      "20/20 [==============================] - 12s 155ms/step - loss: 2.4691 - accuracy: 0.3849 - val_loss: 1.2747 - val_accuracy: 0.6635\n",
      "Epoch 2/10\n",
      "20/20 [==============================] - 2s 78ms/step - loss: 0.4803 - accuracy: 0.8615 - val_loss: 0.8384 - val_accuracy: 0.7740\n",
      "Epoch 3/10\n",
      "20/20 [==============================] - 2s 78ms/step - loss: 0.1589 - accuracy: 0.9581 - val_loss: 0.8015 - val_accuracy: 0.7740\n",
      "Epoch 4/10\n",
      "20/20 [==============================] - 2s 80ms/step - loss: 0.0615 - accuracy: 0.9936 - val_loss: 0.6740 - val_accuracy: 0.8269\n",
      "Epoch 5/10\n",
      "20/20 [==============================] - 2s 79ms/step - loss: 0.0334 - accuracy: 0.9968 - val_loss: 0.6669 - val_accuracy: 0.8173\n",
      "Epoch 6/10\n",
      "20/20 [==============================] - 2s 79ms/step - loss: 0.0204 - accuracy: 0.9968 - val_loss: 0.6834 - val_accuracy: 0.8029\n",
      "Epoch 7/10\n",
      "20/20 [==============================] - 2s 77ms/step - loss: 0.0104 - accuracy: 1.0000 - val_loss: 0.6570 - val_accuracy: 0.8173\n",
      "Epoch 8/10\n",
      "20/20 [==============================] - 2s 77ms/step - loss: 0.0066 - accuracy: 1.0000 - val_loss: 0.6505 - val_accuracy: 0.8269\n",
      "Epoch 9/10\n",
      "20/20 [==============================] - 2s 77ms/step - loss: 0.0053 - accuracy: 1.0000 - val_loss: 0.6450 - val_accuracy: 0.8317\n",
      "Epoch 10/10\n",
      "20/20 [==============================] - 2s 79ms/step - loss: 0.0044 - accuracy: 1.0000 - val_loss: 0.6528 - val_accuracy: 0.8269\n"
     ]
    },
    {
     "data": {
      "text/plain": [
       "<keras.callbacks.History at 0x7fbf30293f10>"
      ]
     },
     "execution_count": 9,
     "metadata": {},
     "output_type": "execute_result"
    }
   ],
   "source": [
    "model.fit(train_images,train_labels, epochs=10, batch_size=32,validation_data=(test_images, test_labels))"
   ]
  },
  {
   "cell_type": "markdown",
   "id": "4a938a75",
   "metadata": {
    "papermill": {
     "duration": 0.014732,
     "end_time": "2023-01-07T13:59:21.961253",
     "exception": false,
     "start_time": "2023-01-07T13:59:21.946521",
     "status": "completed"
    },
    "tags": []
   },
   "source": [
    "# To check accuracy of model"
   ]
  },
  {
   "cell_type": "code",
   "execution_count": 10,
   "id": "afb832ec",
   "metadata": {
    "execution": {
     "iopub.execute_input": "2023-01-07T13:59:21.992740Z",
     "iopub.status.busy": "2023-01-07T13:59:21.991805Z",
     "iopub.status.idle": "2023-01-07T13:59:23.452082Z",
     "shell.execute_reply": "2023-01-07T13:59:23.450189Z"
    },
    "papermill": {
     "duration": 1.478244,
     "end_time": "2023-01-07T13:59:23.454223",
     "exception": false,
     "start_time": "2023-01-07T13:59:21.975979",
     "status": "completed"
    },
    "tags": []
   },
   "outputs": [
    {
     "name": "stdout",
     "output_type": "stream",
     "text": [
      "Accuracy: 0.8269230769230769\n"
     ]
    }
   ],
   "source": [
    "from sklearn.metrics import accuracy_score\n",
    "\n",
    "# Make predictions on the test data\n",
    "predictions = model.predict(test_images)\n",
    "\n",
    "# Convert the predictions to the class labels\n",
    "predicted_labels = np.argmax(predictions, axis=1)\n",
    "\n",
    "# Compute the accuracy score\n",
    "accuracy = accuracy_score(test_labels, predicted_labels)\n",
    "\n",
    "print('Accuracy:', accuracy)"
   ]
  },
  {
   "cell_type": "code",
   "execution_count": 11,
   "id": "89007de9",
   "metadata": {
    "execution": {
     "iopub.execute_input": "2023-01-07T13:59:23.488834Z",
     "iopub.status.busy": "2023-01-07T13:59:23.488520Z",
     "iopub.status.idle": "2023-01-07T13:59:23.498109Z",
     "shell.execute_reply": "2023-01-07T13:59:23.496972Z"
    },
    "papermill": {
     "duration": 0.031568,
     "end_time": "2023-01-07T13:59:23.500868",
     "exception": false,
     "start_time": "2023-01-07T13:59:23.469300",
     "status": "completed"
    },
    "tags": []
   },
   "outputs": [
    {
     "name": "stdout",
     "output_type": "stream",
     "text": [
      "Precision: 82.6923076923077\n"
     ]
    }
   ],
   "source": [
    "from sklearn.metrics import precision_score\n",
    "\n",
    "precision = precision_score(test_labels, predicted_labels, average='micro')\n",
    "\n",
    "print('Precision:', precision*100)"
   ]
  },
  {
   "cell_type": "code",
   "execution_count": null,
   "id": "543cfb0f",
   "metadata": {
    "papermill": {
     "duration": 0.014444,
     "end_time": "2023-01-07T13:59:23.530473",
     "exception": false,
     "start_time": "2023-01-07T13:59:23.516029",
     "status": "completed"
    },
    "tags": []
   },
   "outputs": [],
   "source": []
  }
 ],
 "metadata": {
  "kernelspec": {
   "display_name": "Python 3",
   "language": "python",
   "name": "python3"
  },
  "language_info": {
   "codemirror_mode": {
    "name": "ipython",
    "version": 3
   },
   "file_extension": ".py",
   "mimetype": "text/x-python",
   "name": "python",
   "nbconvert_exporter": "python",
   "pygments_lexer": "ipython3",
   "version": "3.7.12"
  },
  "papermill": {
   "default_parameters": {},
   "duration": 75.384043,
   "end_time": "2023-01-07T13:59:26.606347",
   "environment_variables": {},
   "exception": null,
   "input_path": "__notebook__.ipynb",
   "output_path": "__notebook__.ipynb",
   "parameters": {},
   "start_time": "2023-01-07T13:58:11.222304",
   "version": "2.3.4"
  }
 },
 "nbformat": 4,
 "nbformat_minor": 5
}
